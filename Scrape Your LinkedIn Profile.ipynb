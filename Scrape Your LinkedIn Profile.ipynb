{
 "cells": [
  {
   "cell_type": "markdown",
   "metadata": {},
   "source": [
    "Selenium is a portable framework for testing web applications. We will use it to create a browser that we can use to automate user interactions"
   ]
  },
  {
   "cell_type": "code",
   "execution_count": 1,
   "metadata": {},
   "outputs": [],
   "source": [
    "from selenium import webdriver"
   ]
  },
  {
   "cell_type": "markdown",
   "metadata": {},
   "source": [
    "Use webdriver to open a browser that we will automate"
   ]
  },
  {
   "cell_type": "code",
   "execution_count": 2,
   "metadata": {},
   "outputs": [],
   "source": [
    "driver = webdriver.Chrome() "
   ]
  },
  {
   "cell_type": "markdown",
   "metadata": {},
   "source": [
    "We can use the \"get\" method to navigate the browser to any website. We will use it to the visit the LinkedIn login page. "
   ]
  },
  {
   "cell_type": "code",
   "execution_count": 3,
   "metadata": {},
   "outputs": [],
   "source": [
    "driver.get('https://www.linkedin.com/login') "
   ]
  },
  {
   "cell_type": "markdown",
   "metadata": {},
   "source": [
    "assign your linkedin login info to the email and password variables"
   ]
  },
  {
   "cell_type": "code",
   "execution_count": 4,
   "metadata": {},
   "outputs": [],
   "source": [
    "email = \"dhurls99@gmail.com\"\n",
    "password = \"Hockey2399\""
   ]
  },
  {
   "cell_type": "markdown",
   "metadata": {},
   "source": [
    "Type our variables into their cooresponding fields using driver. We first find the element using the \"find_element_by_id\" method and type in our variables using the \"send_keys\" method. We find the id of the element by inspecting the browser."
   ]
  },
  {
   "cell_type": "code",
   "execution_count": 6,
   "metadata": {},
   "outputs": [],
   "source": [
    "email_input_id = \"username\"\n",
    "driver.find_element_by_id(email_input_id).send_keys(email)\n",
    "password_input_id = \"password\"\n",
    "driver.find_element_by_id(password_input_id).send_keys(password)"
   ]
  },
  {
   "cell_type": "markdown",
   "metadata": {},
   "source": [
    "Now find the Sign in button in the inspector. It does not have an id so we'll have to use it's class name. We will then use the click() method to simulate a user clicking the button."
   ]
  },
  {
   "cell_type": "code",
   "execution_count": 7,
   "metadata": {},
   "outputs": [],
   "source": [
    "driver.find_element_by_class_name(\"btn__primary--large\").click()"
   ]
  },
  {
   "cell_type": "markdown",
   "metadata": {},
   "source": [
    "Let's visit your profile and scrape some information off the page"
   ]
  },
  {
   "cell_type": "code",
   "execution_count": 8,
   "metadata": {},
   "outputs": [],
   "source": [
    "# scrape your name\n",
    "list_item = driver.find_element_by_class_name(\"pv-top-card-v3--list\")\n",
    "list_item.find_element_by_tag_name(\"li\").text"
   ]
  },
  {
   "cell_type": "code",
   "execution_count": 16,
   "metadata": {},
   "outputs": [],
   "source": [
    "# scrape your headline\n",
    "driver.find_element_by_tag_name(\"h2\").text\n",
    "driver.find_element_by_id(fav_person_id).click()"
   ]
  },
  {
   "cell_type": "code",
   "execution_count": null,
   "metadata": {},
   "outputs": [],
   "source": [
    "# scrape the about section\n",
    "driver.find_element_by_class_name(\"lt-line-clamp__more\").click()\n",
    "driver.find_element_by_class_name(\"pv-about__summary-text\").text"
   ]
  },
  {
   "cell_type": "markdown",
   "metadata": {},
   "source": [
    "While this script is that useful it will give you some intuition into what will be useful. We will develop a much more powerful script that we can use to reach out to more people. "
   ]
  },
  {
   "cell_type": "code",
   "execution_count": null,
   "metadata": {},
   "outputs": [],
   "source": []
  }
 ],
 "metadata": {
  "kernelspec": {
   "display_name": "Python 3",
   "language": "python",
   "name": "python3"
  },
  "language_info": {
   "codemirror_mode": {
    "name": "ipython",
    "version": 3
   },
   "file_extension": ".py",
   "mimetype": "text/x-python",
   "name": "python",
   "nbconvert_exporter": "python",
   "pygments_lexer": "ipython3",
   "version": "3.7.4"
  }
 },
 "nbformat": 4,
 "nbformat_minor": 2
}
